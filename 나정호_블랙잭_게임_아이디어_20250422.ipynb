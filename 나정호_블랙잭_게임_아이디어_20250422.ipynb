{
  "nbformat": 4,
  "nbformat_minor": 0,
  "metadata": {
    "colab": {
      "provenance": []
    },
    "kernelspec": {
      "name": "python3",
      "display_name": "Python 3"
    },
    "language_info": {
      "name": "python"
    }
  },
  "cells": [
    {
      "cell_type": "code",
      "source": [
        "import random"
      ],
      "metadata": {
        "id": "zchiHISKH7Mq"
      },
      "execution_count": null,
      "outputs": []
    },
    {
      "cell_type": "code",
      "execution_count": null,
      "metadata": {
        "id": "z4saYW1z-Anz"
      },
      "outputs": [],
      "source": [
        "# 덱 제작 함수\n",
        "def create_deck():\n",
        "\n",
        "    # 카드 숫자 (2~10, J, Q, K, A)\n",
        "    rank = ['2', '3', '4', '5', '6', '7', '8', '9', '10', 'J', 'Q', 'K', 'A']\n",
        "    suit = ['S', 'C', 'D', 'H']\n",
        "\n",
        "    deck = [suits + ranks for ranks in rank for suits in suit]\n",
        "    deck *= 4  # 플레잉 카드는 한 세트에 52장, 블랙잭에서는 이를 4세트를 사용해 총 208장을 사용함\n",
        "\n",
        "    random.shuffle(deck) # 덱 셔플\n",
        "    return deck\n",
        "\n",
        "deck = create_deck()"
      ]
    },
    {
      "cell_type": "code",
      "source": [
        "# 스플릿 가능 확인 함수\n",
        "def check_split(player):\n",
        "    if len(player) == 2 and player[0][:-1] == player[1][:-1]:\n",
        "        return True\n",
        "    else:\n",
        "        return False"
      ],
      "metadata": {
        "id": "luDRzhYeLhHT"
      },
      "execution_count": null,
      "outputs": []
    },
    {
      "cell_type": "code",
      "source": [
        "# 더블 가능 확인 함수\n",
        "def check_double(player):\n",
        "    if len(player) == 2:\n",
        "        return True\n",
        "    else:\n",
        "        return False"
      ],
      "metadata": {
        "id": "bhLPYhk5Li_R"
      },
      "execution_count": null,
      "outputs": []
    },
    {
      "cell_type": "code",
      "source": [
        "# 점수를 계산 함수\n",
        "def game_score(play_deck):\n",
        "    card_values = {'2': 2, '3': 3, '4': 4, '5': 5, '6': 6, '7': 7, '8': 8, '9': 9,'10': 10, 'J': 10, 'Q': 10, 'K': 10, 'A': 1} # 카드 당 점수 할당\n",
        "\n",
        "    total_score = 0\n",
        "    ace_count = 0 #상황에 맞게 사용하는 ace값을 위한 변수 초기화\n",
        "\n",
        "    for card in play_deck:\n",
        "        card_name = card[:-1]  # 카드의 숫자나 문자를 추출\n",
        "        total_score += card_values[card_name] # 덱에 있는 카드들의 점수를 루프문을 통해 더함\n",
        "\n",
        "        if card_name == 'A': #기본적으로 'A' 는 1점으로 계산\n",
        "            ace_count += 1\n",
        "\n",
        "    while total_score <= 11 and ace_count > 0: # 만일 에이스를 패에 가지고 있고 총점이 11보다 작은 상황에선 에이스를 11로 처리한다.(점수가 실시간으로 처리되는 것이 아니라 가능함)\n",
        "        total_score += 10  # Ace를 11로 처리\n",
        "        ace_count -= 1\n",
        "\n",
        "    return total_score\n"
      ],
      "metadata": {
        "id": "6FaNKHSnBJpb"
      },
      "execution_count": null,
      "outputs": []
    },
    {
      "cell_type": "code",
      "source": [
        "# 스플릿 입력시 플레이 함수\n",
        "def split_play(player1, player2, deck):\n",
        "    print(f\"플레이어1: {player1}\")\n",
        "    print(f\"플레이어2: {player2}\")\n",
        "\n",
        "    # 플레이어1 처리\n",
        "    while True:\n",
        "        player1_score = game_score(player1)\n",
        "        if player1_score >= 21:\n",
        "            break\n",
        "\n",
        "        action = input(f\"플레이어1, 카드를 더 받으시겠습니까? (hit/stand):\")\n",
        "\n",
        "        if action == 'hit':\n",
        "            player1.append(deck.pop())\n",
        "            print(f\"플레이어1: {player1}\")\n",
        "\n",
        "        elif action == 'stand':\n",
        "            print(f\"플레이어1: {player1}\")\n",
        "            break\n",
        "\n",
        "    # 플레이어2 처리\n",
        "     while True:\n",
        "        player2_score = game_score(player2)\n",
        "        if player2_score >= 21:\n",
        "            break\n",
        "\n",
        "        action = input(f\"플레이어2, 카드를 더 받으시겠습니까? (hit/stand):\")\n",
        "\n",
        "        if action == 'hit':\n",
        "            player2.append(deck.pop())\n",
        "            print(f\"플레이어2: {player2}\")\n",
        "\n",
        "        elif action == 'stand':\n",
        "            print(f\"플레이어2: {player2}\")\n",
        "            break\n",
        "\n",
        "    # 결과 출력\n",
        "    print(f\"플레이어1: {player2_score}\")\n",
        "    print(f\"플레이어2: {player2_score}\")"
      ],
      "metadata": {
        "id": "FfiL7O_BCphi"
      },
      "execution_count": null,
      "outputs": []
    },
    {
      "cell_type": "code",
      "source": [
        "# 1. 카드를 받을 공간 생성\n",
        "dealer = []\n",
        "player = []"
      ],
      "metadata": {
        "id": "hHpfGGvhH9VL"
      },
      "execution_count": null,
      "outputs": []
    },
    {
      "cell_type": "code",
      "source": [
        "# 2. 첫 카드 배분\n",
        "dealer.append(deck.pop())\n",
        "dealer.append(deck.pop())\n",
        "\n",
        "player.append(deck.pop())\n",
        "player.append(deck.pop())"
      ],
      "metadata": {
        "id": "QpNXH6Fu-ICE"
      },
      "execution_count": null,
      "outputs": []
    },
    {
      "cell_type": "code",
      "source": [
        "# 3. 게임 진행\n",
        "print(f\"딜러의 카드: [{dealer[0]}, X ]\")\n",
        "print(f\"플레이어의 카드: {player}\")\n",
        "\n",
        "# 3-1. 플레이어\n",
        "while True:\n",
        "    player_score = game_score(player) # 플레이어 점수 확인\n",
        "    can_split =  check_split(player) # 스플릿 가능 여부\n",
        "    can_double = check_double(player) # 더블 가능 여부\n",
        "\n",
        "    if player_score >= 21:\n",
        "        print(\"BUST\")\n",
        "        break\n",
        "\n",
        "    action = input(\"카드를 더 받으시겠습니까? (hit/stand/split/double): \")\n",
        "\n",
        "    if action == 'hit': # 1.히트\n",
        "        player.append(deck.pop())\n",
        "        print(f\"플레이어의 카드: {player}\")\n",
        "\n",
        "    elif action == 'stand':# 2.스탠드\n",
        "        print(f\"플레이어의 카드: {player}\")\n",
        "        break\n",
        "\n",
        "    elif action == 'split' and can_split: # 3.스플릿과 스플릿 가능여부\n",
        "\n",
        "        player1 = [player[0], deck.pop()] # 만일 스플릿 입력이 들어왔을 때, 기존의 플레이어 리스트를 사용하지 않고, 별도의 리스트에 해당 카드들을 분배하고, 한장 씩 받음\n",
        "        player2 = [player[1], deck.pop()]\n",
        "        split_play(player1, player2, deck) # 함수를 통해 나머지 게임 플레이\n",
        "        break\n",
        "\n",
        "    elif action == 'double'and can_double: # 4. 더블다운, 첫 배분 직후에만 가능\n",
        "        player.append(deck.pop())           # 더블다운의 규칙대로 한장을 더 받음\n",
        "        print(f\"플레이어의 카드: {player}\")\n",
        "        break\n",
        "\n",
        "    else:\n",
        "        print(\"잘못 입력하셨습니다. 'hit','stand','split' 또는'double'을 입력하세요.\")\n",
        "\n",
        "player_score = game_score(player) #플레이어의 점수 계산"
      ],
      "metadata": {
        "id": "jKS9tSIk-w7t"
      },
      "execution_count": null,
      "outputs": []
    },
    {
      "cell_type": "code",
      "source": [
        "# 3-2. 딜러\n",
        "dealer_score = game_score(dealer) #딜러 점수 계산\n",
        "while dealer_score < 17:\n",
        "        dealer.append(deck.pop())  # 점수가 17점보다 낮을 경우, 계속 카드를 받음\n",
        "        dealer_score = game_score(dealer) #카드를 받은 뒤에 점수 계산\n",
        "        if dealer_score > 21:\n",
        "            print(\"BUST! 플레이어 승리!\")\n",
        "            break  # 더 이상 카드 뽑을 필요 없음"
      ],
      "metadata": {
        "id": "jhofZtJjukWJ"
      },
      "execution_count": null,
      "outputs": []
    },
    {
      "cell_type": "code",
      "source": [
        "# 4. 결과\n",
        "if player_score > 21:\n",
        "    print(\"BUST! 딜러 승리\")\n",
        "elif dealer_score > 21 or player_score > dealer_score:\n",
        "    print(\"플레이어 승리!\")\n",
        "elif player_score < dealer_score:\n",
        "    print(\"딜러 승리!\")\n",
        "else:\n",
        "    print(\"무승부!\")"
      ],
      "metadata": {
        "id": "nHHmkUvzuiHs"
      },
      "execution_count": null,
      "outputs": []
    }
  ]
}