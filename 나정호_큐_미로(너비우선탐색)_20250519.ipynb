{
  "nbformat": 4,
  "nbformat_minor": 0,
  "metadata": {
    "colab": {
      "provenance": []
    },
    "kernelspec": {
      "name": "python3",
      "display_name": "Python 3"
    },
    "language_info": {
      "name": "python"
    }
  },
  "cells": [
    {
      "cell_type": "code",
      "execution_count": 11,
      "metadata": {
        "id": "e15phNZXWz9T"
      },
      "outputs": [],
      "source": [
        "# 선형 큐\n",
        "\n",
        "class lQueue:\n",
        "    def __init__(self):\n",
        "        self.temp_queue = []\n",
        "\n",
        "    def isEmpty(self):\n",
        "        return True if len(self.temp_queue) == 0 else False\n",
        "\n",
        "    def enqueue(self, x):\n",
        "        self.temp_queue.append(x)\n",
        "\n",
        "    def dequeue(self):\n",
        "        return self.temp_queue.pop(0) if not self.isEmpty() else None\n",
        "\n",
        "    def peek(self):\n",
        "        return self.temp_queue[0] if not self.isEmpty() else None\n",
        "\n",
        "    def size(self):\n",
        "        return len(self.temp_queue)\n",
        "\n",
        "    def clear(self):\n",
        "        self.temp_queue = []"
      ]
    },
    {
      "cell_type": "code",
      "source": [
        "# 원형 큐\n",
        "\n",
        "class cQueue:\n",
        "    def __init__(self):\n",
        "        self.front = 0\n",
        "        self.rear = 0\n",
        "        self.Max_qsize = int(input(\"큐의 사이즈를 입력하세요\"))\n",
        "        self.temp_queue = [None] * self.Max_qsize\n",
        "\n",
        "    def isEmpty(self):\n",
        "        return True if self.front == self.rear else False\n",
        "\n",
        "    def clear(self):\n",
        "        self.front = self.rear\n",
        "\n",
        "    def isFull(self):\n",
        "        return True if self.front % self.Max_qsize == (self.rear + 1) % self.Max_qsize else False\n",
        "\n",
        "    def enqueue(self, x):\n",
        "        if not self.isFull():\n",
        "            self.rear = (self.rear+1) % self.Max_qsize\n",
        "            self.temp_queue[self.rear] = x\n",
        "\n",
        "    def dequeue(self):\n",
        "        if not self.isEmpty():\n",
        "            self.front = (self.front+1) % self.Max_qsize\n",
        "            return self.temp_queue[self.front]\n",
        "\n",
        "    def peek(self):\n",
        "        if not self.isEmpty():\n",
        "            return self.temp_queue[(self.front + 1) % self.Max_qsize]\n",
        "\n",
        "    def size(self):\n",
        "        return (self.rear - self.front + self.Max_qsize) % self.Max_qsize\n",
        "\n",
        "\n"
      ],
      "metadata": {
        "id": "ofg9mpguptgW"
      },
      "execution_count": 8,
      "outputs": []
    },
    {
      "cell_type": "code",
      "source": [
        "map=[['1','1','1','1','1','1'],\n",
        "        ['e','0','0','0','0','1'],\n",
        "         ['1','0','1','0','1','1'],\n",
        "          ['1','1','1','0','0','x'],\n",
        "           ['1','1','1','0','1','1'],\n",
        "            ['1','1','1','1','1','1']]"
      ],
      "metadata": {
        "id": "Y0G7jeWcXA6r"
      },
      "execution_count": 12,
      "outputs": []
    },
    {
      "cell_type": "code",
      "source": [
        "# 선형 큐\n",
        "queue = lQueue()"
      ],
      "metadata": {
        "id": "6cLWcVhFWwW6"
      },
      "execution_count": 13,
      "outputs": []
    },
    {
      "cell_type": "code",
      "source": [
        "# 원형 큐\n",
        "queue = cQueue()"
      ],
      "metadata": {
        "id": "_R94DZGdWvKx"
      },
      "execution_count": null,
      "outputs": []
    },
    {
      "cell_type": "code",
      "source": [
        "direction = [[-1, 0],[0, 1],[1, 0],[0,-1]] # 방향성 상,우,하,좌\n",
        "maze_size = 6\n",
        "\n",
        "# 1. 임시 큐 선언\n",
        "\n",
        "# 2. 시작 좌표 탐색\n",
        "for row in range(maze_size):\n",
        "    for col in range(maze_size):\n",
        "        if map[row][col] == 'e':\n",
        "            start_point = [row,col]\n",
        "# 3. 임시 큐에 시작 좌표 삽입\n",
        "queue.enqueue(start_point)\n",
        "\n",
        "# 4. while 문 실행(큐가 비어있지 않는 동안)\n",
        "while not queue.isEmpty():\n",
        "# 5. 임시 큐에서 좌표를 호출 - 꺼내지 않음\n",
        "    current = queue.peek()\n",
        "    row, col = current\n",
        "# 11. 큐에 입력된 값에서 'x'인 좌표가 발견되었을 때, 미로 탈출 선언 및 좌표 출력\n",
        "    if map[row][col] == 'x':\n",
        "        print(f\"탈출 성공! 도착 좌표: ({row+1}, {col+1})\")\n",
        "        break\n",
        "# 6. 해당 좌표의 값을 방문표시함 \".\"\n",
        "\n",
        "    map[row][col] = '.'\n",
        "\n",
        "# 7. 현재의 값에 방향값을 더해 새로운 좌표들을 생성,\n",
        "# 8. 이 중 값이 0인 좌표들을 큐에 삽입\n",
        "    for dr, dc in direction:\n",
        "        new_row, new_col = row + dr, col + dc\n",
        "        if 0 <= new_row < maze_size and 0 <= new_col < maze_size:\n",
        "            if map[new_row][new_col] == '0' or map[new_row][new_col] == 'x':\n",
        "                queue.enqueue((new_row, new_col))\n",
        "# 9. 큐에 들어있는 첫번째 값 제거\n",
        "    queue.dequeue()\n",
        "# 10. 큐에 있는 다음 좌표값 호출(반복)\n"
      ],
      "metadata": {
        "id": "KBcYsjSROcPN",
        "colab": {
          "base_uri": "https://localhost:8080/"
        },
        "outputId": "2876f3f0-5a1b-4d9d-d2fd-dd2168d1500b"
      },
      "execution_count": 14,
      "outputs": [
        {
          "output_type": "stream",
          "name": "stdout",
          "text": [
            "탈출 성공! 도착 좌표: (4, 6)\n"
          ]
        }
      ]
    },
    {
      "cell_type": "code",
      "source": [
        "# 큐 초기화\n",
        "queue.clear()"
      ],
      "metadata": {
        "id": "nDHF7X6VaKnp"
      },
      "execution_count": null,
      "outputs": []
    },
    {
      "cell_type": "code",
      "source": [
        "# 우선순위 큐\n",
        "class pQueue:\n",
        "    def __init__(self):\n",
        "        self.temp_queue = []\n",
        "\n",
        "    def isEmpty(self):\n",
        "        return True if len(self.temp_queue) == 0 else False\n",
        "\n",
        "    def enqueue(self,e):\n",
        "        self.temp_queue.append(e)\n",
        "\n",
        "    def findMaxIndex(self):\n",
        "        if self.isEmpty():\n",
        "            return None\n",
        "        else:\n",
        "            highest = 0\n",
        "            for i in range(1, self.size()):\n",
        "                if self.temp_queue[i] > self.temp_queue[highest] :\n",
        "                    highest = i\n",
        "            return highest\n",
        "\n",
        "    def dequeue(self):\n",
        "        highest = self.findMaxIndex()\n",
        "        if highest is not None:\n",
        "            return self.temp_queue.pop(highest)\n",
        "\n",
        "    def peek(self):\n",
        "        highest = self.findMaxIndex()\n",
        "        if highest is not None:\n",
        "            return self.temp_queue[highest]\n",
        "\n",
        "    def size(self):\n",
        "        return len(self.temp_queue)\n",
        "\n",
        "    def clear(self):\n",
        "        self.temp_queue = []\n"
      ],
      "metadata": {
        "id": "TobNlrHmX0-_"
      },
      "execution_count": 15,
      "outputs": []
    },
    {
      "cell_type": "code",
      "source": [
        "# (미구현)우선순위 미로 - 에이스타, 다익스트라 방식 등"
      ],
      "metadata": {
        "id": "qmwr9p1ZdOA_"
      },
      "execution_count": null,
      "outputs": []
    }
  ]
}