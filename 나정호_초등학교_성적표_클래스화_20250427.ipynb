{
  "nbformat": 4,
  "nbformat_minor": 0,
  "metadata": {
    "colab": {
      "provenance": []
    },
    "kernelspec": {
      "name": "python3",
      "display_name": "Python 3"
    },
    "language_info": {
      "name": "python"
    }
  },
  "cells": [
    {
      "cell_type": "code",
      "source": [
        "import random\n",
        "import os"
      ],
      "metadata": {
        "id": "R9ay5sJ3lmt_"
      },
      "execution_count": 1,
      "outputs": []
    },
    {
      "cell_type": "markdown",
      "source": [
        "초등학교 성적표 클래스화\n",
        "\n",
        "성적데이터 클래스\n",
        "\n",
        "1.구조\n",
        "- 초기화\n",
        "- 자료형 매서드\n",
        "- 파일 쓰기\n",
        "- 파일 읽기\n"
      ],
      "metadata": {
        "id": "6mJaWHe4Sv01"
      }
    },
    {
      "cell_type": "code",
      "execution_count": 36,
      "metadata": {
        "id": "UoowDI5ESAz2"
      },
      "outputs": [],
      "source": [
        "class School: #클래스 명의 첫 글자는 대문자\n",
        "    def __init__(self, school_name):\n",
        "        self.school_name = school_name\n",
        "        self.data = {}\n",
        "\n",
        "    # 내부 자료형 매서드 (school -> 학년 -> 반 -> 학생 -> 점수)\n",
        "    def add_stud_score(self,grade,room,student,subject,score):\n",
        "        if grade not in self.data:\n",
        "            self.data[grade] = {}\n",
        "        if room not in self.data[grade]:\n",
        "            self.data[grade][room] = {}\n",
        "        if student not in self.data[grade][room]:\n",
        "            self.data[grade][room][student] = {}\n",
        "\n",
        "        self.data[grade][room][student][subject] = score\n",
        "\n",
        "    # file_write 매서드\n",
        "    def write_file(self, filename):\n",
        "        with open(filename, \"w\",encoding =\"utf-8\") as file:\n",
        "            file.write(\"초등학교 성적\\n\")\n",
        "            for grade,rooms in self.data.items():\n",
        "                file.write(f\"{grade}\\n\")\n",
        "                for room, students in rooms.items():\n",
        "                    file.write(f\"     {room}\\n\")\n",
        "                    for student, subjects in students.items():\n",
        "                        file.write(f\"        {student}\\n\")\n",
        "                        for subject, score in subjects.items():\n",
        "                            file.write(f\"        {subject} : {score}\\n\")\n",
        "\n",
        "\n",
        "    # file_read 매서드\n",
        "    def read_file(self,filename):\n",
        "        with open(filename, \"r\", encoding = \"utf-8\") as file:\n",
        "            lines = file.readlines()\n",
        "\n",
        "        read_grade, read_room, read_student = None, None, None # 다양한 방식으로 사용하기 위해 None으로 초기화\n",
        "        for line in lines[1:] : #초등학교 성적 줄 제외\n",
        "            line= line.strip()\n",
        "            if line.endswith(\"학년\"): #~로 끝나는 문자열\n",
        "                read_grade = line\n",
        "            elif line.endswith(\"반\"):\n",
        "                read_room = line\n",
        "            elif line.startswith(\"학생\"):#~로 시작하는 문자열\n",
        "                read_studnet = line\n",
        "            elif \":\" in line:\n",
        "                subject, score = lin.split(\" : \")\n",
        "                score= int(score)\n",
        "                self.add_stud_score(read_grade, read_room, read_student,subject, score)"
      ]
    },
    {
      "cell_type": "markdown",
      "source": [
        "성적 관련 클래스\n",
        "\n",
        "1.구조\n",
        "- 과목별 평균 점수 매서드\n",
        "- 학생별 평균 점수 매서드\n",
        "- 과목별 최고 점수 매서드\n",
        "- 학년별 석차 매서드"
      ],
      "metadata": {
        "id": "Kps97OGAeXy6"
      }
    },
    {
      "cell_type": "code",
      "source": [
        "class Report_score:\n",
        "    def __init__(self, school): #학교 데이터를 가져옴\n",
        "        self.school = school\n",
        "\n",
        "    # 과목별 평균 점수\n",
        "    def sub_avg_score(self, subject):\n",
        "        total = 0\n",
        "        count = 0\n",
        "        for grade, rooms in self.school.data.items():\n",
        "            for room, students in rooms.items():\n",
        "                for student, subjects in students.items():\n",
        "                    if subject in subjects:\n",
        "                        total += subjects[subject]\n",
        "                        count += 1\n",
        "\n",
        "        return total / count\n",
        "\n",
        "    # 학생별 평균 점수\n",
        "    def stud_avg_score(self, grade ,room, student):\n",
        "        total = 0\n",
        "        count = 0\n",
        "        for subject,score in self.school.data[grade][room][student].items():\n",
        "            total += score\n",
        "            count += 1\n",
        "        return total/ count\n",
        "\n",
        "    # 과목별 최고 점수\n",
        "    def sub_max_score(self, subject):\n",
        "        max = 0\n",
        "        for grade,rooms in self.school.data.items():\n",
        "            for room, students in rooms.items():\n",
        "                for student,subjects in students.items():\n",
        "                    if subject in subjects:\n",
        "                        if subjects[subject] > max:\n",
        "                            max = subjects[subject]\n",
        "        return max\n",
        "\n",
        "    # 학년별 석차\n",
        "    def grade_rank(self, grade):\n",
        "        grade_avg = {}\n",
        "        for room,students in self.school.data[grade].items():\n",
        "            for student, subjects in students.items():\n",
        "                stud_avg = sum(subjects.values())/ len(subjects)\n",
        "                grade_avg[(student, room)] = stud_avg\n",
        "\n",
        "        rank_stud = sorted(grade_avg.items(),key = lambda x : x[1], reverse = True) #고득점자 기준으로 정렬\n",
        "        return rank_stud"
      ],
      "metadata": {
        "id": "IK9LAAoVfELO"
      },
      "execution_count": 67,
      "outputs": []
    },
    {
      "cell_type": "markdown",
      "source": [
        "사용 예시"
      ],
      "metadata": {
        "id": "x9gCuKqNksl_"
      }
    },
    {
      "cell_type": "code",
      "source": [
        "# 상수 초기화\n",
        "max_grade = 6\n",
        "max_room = 10\n",
        "max_student = 30\n",
        "min_student = 20\n",
        "max_subject = 10\n",
        "max_score = 100\n",
        "subject = [\"국어\",\"수학\",\"영어\"]\n",
        "school = School(\"폴리텍 초등학교\")"
      ],
      "metadata": {
        "id": "B5w6IL9NmBlX"
      },
      "execution_count": 68,
      "outputs": []
    },
    {
      "cell_type": "code",
      "source": [
        "# 기본 데이터 생성\n",
        "for is_grade in range(1,max_grade + 1):\n",
        "    for is_room in range(1, max_room + 1):\n",
        "        rand_student = random.randint(min_student, max_student)\n",
        "        for is_student in range(1, rand_student + 1):\n",
        "            report = {}\n",
        "            for is_subject in subject:\n",
        "                score = random.randint(0, max_score)\n",
        "                report[is_subject] = score\n",
        "                school.add_stud_score(f\"{is_grade}학년\", f\"{is_room}반\", f\"학생{is_student}\", is_subject, score)\n"
      ],
      "metadata": {
        "id": "TOHS54_ykr4U"
      },
      "execution_count": 69,
      "outputs": []
    },
    {
      "cell_type": "code",
      "source": [
        "# 파일 저장\n",
        "school.write_file(\"폴리텍 초등학교 성적표.txt\")"
      ],
      "metadata": {
        "id": "TwdsU67Mmz_1"
      },
      "execution_count": 70,
      "outputs": []
    },
    {
      "cell_type": "code",
      "source": [
        "report = Report_score(school)"
      ],
      "metadata": {
        "id": "CHYqbFQcnrVm"
      },
      "execution_count": 71,
      "outputs": []
    },
    {
      "cell_type": "code",
      "source": [
        "# 과목별 평균 점수\n",
        "math_avg = report.sub_avg_score(\"수학\")\n",
        "print(f\"수학 과목 평균 점수: {round(math_avg)}\")"
      ],
      "metadata": {
        "colab": {
          "base_uri": "https://localhost:8080/"
        },
        "id": "oK9L8uvboM0i",
        "outputId": "4ec9d8b3-7303-4fcd-ce11-d8f388df5893"
      },
      "execution_count": 72,
      "outputs": [
        {
          "output_type": "stream",
          "name": "stdout",
          "text": [
            "수학 과목 평균 점수: 50\n"
          ]
        }
      ]
    },
    {
      "cell_type": "code",
      "source": [
        "# 학생별 평균 점수\n",
        "stud_avg = report.stud_avg_score(\"1학년\", \"1반\", \"학생1\")\n",
        "print(f\"1학년 1반 학생1의 평균 점수: {round(stud_avg)}\")"
      ],
      "metadata": {
        "colab": {
          "base_uri": "https://localhost:8080/"
        },
        "id": "WMEalDLOoUQM",
        "outputId": "269008ba-4dd3-4af2-edd3-adde5c884ae4"
      },
      "execution_count": 73,
      "outputs": [
        {
          "output_type": "stream",
          "name": "stdout",
          "text": [
            "1학년 1반 학생1의 평균 점수: 35\n"
          ]
        }
      ]
    },
    {
      "cell_type": "code",
      "source": [
        "# 과목별 최고 점수\n",
        "english_max = report.sub_max_score(\"영어\")\n",
        "print(f\"영어 과목 최고 점수: {round(english_max)}\")"
      ],
      "metadata": {
        "colab": {
          "base_uri": "https://localhost:8080/"
        },
        "id": "IOMKFludoazR",
        "outputId": "f692092f-35ed-44db-f55a-ace69a4ce50e"
      },
      "execution_count": 74,
      "outputs": [
        {
          "output_type": "stream",
          "name": "stdout",
          "text": [
            "영어 과목 최고 점수: 100\n"
          ]
        }
      ]
    },
    {
      "cell_type": "code",
      "source": [
        "# 학년 석차\n",
        "rank = report.grade_rank(\"1학년\")\n",
        "for (student,room), avg_score in rank:\n",
        "    print(f\"({room}) {student}, 평균 점수: {round(avg_score)}\")"
      ],
      "metadata": {
        "colab": {
          "base_uri": "https://localhost:8080/"
        },
        "id": "Q6Z56C1PoehT",
        "outputId": "c721ccda-6aa2-408d-d3f8-ad77dd0d7918"
      },
      "execution_count": 77,
      "outputs": [
        {
          "output_type": "stream",
          "name": "stdout",
          "text": [
            "(8반) 학생17, 평균 점수: 92\n",
            "(7반) 학생14, 평균 점수: 89\n",
            "(2반) 학생13, 평균 점수: 85\n",
            "(9반) 학생26, 평균 점수: 84\n",
            "(7반) 학생1, 평균 점수: 84\n",
            "(4반) 학생17, 평균 점수: 83\n",
            "(7반) 학생26, 평균 점수: 83\n",
            "(5반) 학생13, 평균 점수: 82\n",
            "(10반) 학생18, 평균 점수: 82\n",
            "(10반) 학생26, 평균 점수: 82\n",
            "(6반) 학생21, 평균 점수: 81\n",
            "(7반) 학생23, 평균 점수: 80\n",
            "(10반) 학생11, 평균 점수: 80\n",
            "(3반) 학생12, 평균 점수: 79\n",
            "(7반) 학생3, 평균 점수: 79\n",
            "(8반) 학생18, 평균 점수: 79\n",
            "(10반) 학생5, 평균 점수: 79\n",
            "(5반) 학생25, 평균 점수: 79\n",
            "(8반) 학생7, 평균 점수: 78\n",
            "(5반) 학생9, 평균 점수: 76\n",
            "(10반) 학생7, 평균 점수: 76\n",
            "(2반) 학생8, 평균 점수: 75\n",
            "(3반) 학생7, 평균 점수: 75\n",
            "(1반) 학생17, 평균 점수: 74\n",
            "(4반) 학생9, 평균 점수: 73\n",
            "(8반) 학생28, 평균 점수: 72\n",
            "(8반) 학생1, 평균 점수: 72\n",
            "(10반) 학생20, 평균 점수: 72\n",
            "(3반) 학생6, 평균 점수: 71\n",
            "(9반) 학생4, 평균 점수: 71\n",
            "(2반) 학생10, 평균 점수: 70\n",
            "(9반) 학생14, 평균 점수: 70\n",
            "(4반) 학생1, 평균 점수: 70\n",
            "(1반) 학생21, 평균 점수: 70\n",
            "(9반) 학생25, 평균 점수: 70\n",
            "(7반) 학생25, 평균 점수: 69\n",
            "(8반) 학생30, 평균 점수: 69\n",
            "(2반) 학생23, 평균 점수: 69\n",
            "(3반) 학생9, 평균 점수: 69\n",
            "(6반) 학생9, 평균 점수: 69\n",
            "(3반) 학생4, 평균 점수: 68\n",
            "(9반) 학생5, 평균 점수: 68\n",
            "(3반) 학생16, 평균 점수: 68\n",
            "(1반) 학생11, 평균 점수: 67\n",
            "(4반) 학생3, 평균 점수: 67\n",
            "(5반) 학생21, 평균 점수: 67\n",
            "(2반) 학생29, 평균 점수: 66\n",
            "(7반) 학생19, 평균 점수: 66\n",
            "(7반) 학생22, 평균 점수: 66\n",
            "(7반) 학생7, 평균 점수: 65\n",
            "(1반) 학생2, 평균 점수: 64\n",
            "(2반) 학생4, 평균 점수: 64\n",
            "(7반) 학생15, 평균 점수: 64\n",
            "(1반) 학생30, 평균 점수: 63\n",
            "(3반) 학생19, 평균 점수: 63\n",
            "(9반) 학생29, 평균 점수: 63\n",
            "(1반) 학생16, 평균 점수: 63\n",
            "(9반) 학생19, 평균 점수: 63\n",
            "(6반) 학생15, 평균 점수: 63\n",
            "(5반) 학생22, 평균 점수: 62\n",
            "(8반) 학생25, 평균 점수: 62\n",
            "(10반) 학생24, 평균 점수: 62\n",
            "(3반) 학생20, 평균 점수: 61\n",
            "(2반) 학생1, 평균 점수: 61\n",
            "(8반) 학생4, 평균 점수: 61\n",
            "(5반) 학생11, 평균 점수: 61\n",
            "(5반) 학생18, 평균 점수: 61\n",
            "(6반) 학생14, 평균 점수: 61\n",
            "(6반) 학생17, 평균 점수: 61\n",
            "(10반) 학생8, 평균 점수: 61\n",
            "(3반) 학생14, 평균 점수: 60\n",
            "(8반) 학생21, 평균 점수: 60\n",
            "(9반) 학생8, 평균 점수: 60\n",
            "(2반) 학생17, 평균 점수: 60\n",
            "(5반) 학생17, 평균 점수: 60\n",
            "(8반) 학생22, 평균 점수: 60\n",
            "(5반) 학생15, 평균 점수: 59\n",
            "(2반) 학생9, 평균 점수: 59\n",
            "(9반) 학생22, 평균 점수: 59\n",
            "(6반) 학생20, 평균 점수: 59\n",
            "(9반) 학생12, 평균 점수: 59\n",
            "(1반) 학생24, 평균 점수: 58\n",
            "(2반) 학생15, 평균 점수: 58\n",
            "(4반) 학생11, 평균 점수: 58\n",
            "(9반) 학생23, 평균 점수: 58\n",
            "(10반) 학생14, 평균 점수: 58\n",
            "(7반) 학생18, 평균 점수: 58\n",
            "(5반) 학생24, 평균 점수: 58\n",
            "(7반) 학생20, 평균 점수: 58\n",
            "(9반) 학생24, 평균 점수: 58\n",
            "(5반) 학생10, 평균 점수: 57\n",
            "(1반) 학생12, 평균 점수: 57\n",
            "(1반) 학생28, 평균 점수: 57\n",
            "(6반) 학생19, 평균 점수: 57\n",
            "(8반) 학생10, 평균 점수: 56\n",
            "(9반) 학생3, 평균 점수: 56\n",
            "(3반) 학생8, 평균 점수: 56\n",
            "(10반) 학생4, 평균 점수: 56\n",
            "(7반) 학생8, 평균 점수: 55\n",
            "(10반) 학생28, 평균 점수: 55\n",
            "(1반) 학생5, 평균 점수: 55\n",
            "(1반) 학생23, 평균 점수: 55\n",
            "(9반) 학생20, 평균 점수: 55\n",
            "(8반) 학생6, 평균 점수: 54\n",
            "(7반) 학생10, 평균 점수: 54\n",
            "(8반) 학생3, 평균 점수: 54\n",
            "(1반) 학생27, 평균 점수: 54\n",
            "(1반) 학생15, 평균 점수: 53\n",
            "(5반) 학생23, 평균 점수: 53\n",
            "(6반) 학생23, 평균 점수: 53\n",
            "(7반) 학생21, 평균 점수: 53\n",
            "(8반) 학생16, 평균 점수: 53\n",
            "(9반) 학생28, 평균 점수: 53\n",
            "(7반) 학생16, 평균 점수: 52\n",
            "(2반) 학생30, 평균 점수: 52\n",
            "(7반) 학생6, 평균 점수: 52\n",
            "(8반) 학생23, 평균 점수: 52\n",
            "(8반) 학생26, 평균 점수: 52\n",
            "(3반) 학생3, 평균 점수: 51\n",
            "(4반) 학생15, 평균 점수: 51\n",
            "(5반) 학생3, 평균 점수: 51\n",
            "(6반) 학생8, 평균 점수: 51\n",
            "(2반) 학생5, 평균 점수: 51\n",
            "(3반) 학생17, 평균 점수: 51\n",
            "(6반) 학생24, 평균 점수: 51\n",
            "(6반) 학생3, 평균 점수: 51\n",
            "(8반) 학생20, 평균 점수: 51\n",
            "(10반) 학생16, 평균 점수: 51\n",
            "(3반) 학생18, 평균 점수: 50\n",
            "(7반) 학생29, 평균 점수: 50\n",
            "(8반) 학생19, 평균 점수: 50\n",
            "(1반) 학생18, 평균 점수: 50\n",
            "(4반) 학생12, 평균 점수: 50\n",
            "(8반) 학생5, 평균 점수: 50\n",
            "(5반) 학생27, 평균 점수: 49\n",
            "(5반) 학생28, 평균 점수: 49\n",
            "(9반) 학생15, 평균 점수: 49\n",
            "(10반) 학생22, 평균 점수: 49\n",
            "(2반) 학생2, 평균 점수: 49\n",
            "(10반) 학생13, 평균 점수: 49\n",
            "(2반) 학생3, 평균 점수: 49\n",
            "(2반) 학생11, 평균 점수: 49\n",
            "(3반) 학생13, 평균 점수: 49\n",
            "(6반) 학생13, 평균 점수: 49\n",
            "(6반) 학생25, 평균 점수: 49\n",
            "(7반) 학생17, 평균 점수: 48\n",
            "(10반) 학생10, 평균 점수: 48\n",
            "(10반) 학생21, 평균 점수: 48\n",
            "(1반) 학생14, 평균 점수: 47\n",
            "(1반) 학생25, 평균 점수: 47\n",
            "(8반) 학생15, 평균 점수: 47\n",
            "(10반) 학생6, 평균 점수: 47\n",
            "(1반) 학생8, 평균 점수: 47\n",
            "(6반) 학생16, 평균 점수: 47\n",
            "(6반) 학생22, 평균 점수: 47\n",
            "(1반) 학생9, 평균 점수: 46\n",
            "(4반) 학생7, 평균 점수: 46\n",
            "(5반) 학생16, 평균 점수: 46\n",
            "(1반) 학생3, 평균 점수: 46\n",
            "(1반) 학생13, 평균 점수: 46\n",
            "(2반) 학생21, 평균 점수: 46\n",
            "(2반) 학생27, 평균 점수: 46\n",
            "(6반) 학생18, 평균 점수: 45\n",
            "(5반) 학생5, 평균 점수: 45\n",
            "(6반) 학생2, 평균 점수: 45\n",
            "(8반) 학생12, 평균 점수: 45\n",
            "(9반) 학생2, 평균 점수: 45\n",
            "(1반) 학생19, 평균 점수: 44\n",
            "(2반) 학생22, 평균 점수: 44\n",
            "(9반) 학생16, 평균 점수: 44\n",
            "(10반) 학생29, 평균 점수: 44\n",
            "(10반) 학생23, 평균 점수: 44\n",
            "(3반) 학생5, 평균 점수: 43\n",
            "(1반) 학생7, 평균 점수: 43\n",
            "(2반) 학생19, 평균 점수: 43\n",
            "(5반) 학생14, 평균 점수: 43\n",
            "(9반) 학생6, 평균 점수: 42\n",
            "(2반) 학생12, 평균 점수: 42\n",
            "(2반) 학생26, 평균 점수: 42\n",
            "(6반) 학생1, 평균 점수: 42\n",
            "(3반) 학생2, 평균 점수: 42\n",
            "(5반) 학생12, 평균 점수: 41\n",
            "(7반) 학생13, 평균 점수: 41\n",
            "(7반) 학생27, 평균 점수: 41\n",
            "(9반) 학생1, 평균 점수: 41\n",
            "(2반) 학생28, 평균 점수: 41\n",
            "(3반) 학생15, 평균 점수: 41\n",
            "(4반) 학생14, 평균 점수: 41\n",
            "(2반) 학생14, 평균 점수: 41\n",
            "(2반) 학생20, 평균 점수: 41\n",
            "(2반) 학생7, 평균 점수: 40\n",
            "(2반) 학생18, 평균 점수: 40\n",
            "(5반) 학생4, 평균 점수: 40\n",
            "(7반) 학생28, 평균 점수: 40\n",
            "(5반) 학생8, 평균 점수: 40\n",
            "(8반) 학생24, 평균 점수: 40\n",
            "(10반) 학생9, 평균 점수: 40\n",
            "(8반) 학생13, 평균 점수: 39\n",
            "(5반) 학생29, 평균 점수: 39\n",
            "(4반) 학생10, 평균 점수: 39\n",
            "(6반) 학생11, 평균 점수: 39\n",
            "(5반) 학생1, 평균 점수: 38\n",
            "(5반) 학생6, 평균 점수: 38\n",
            "(6반) 학생5, 평균 점수: 38\n",
            "(5반) 학생2, 평균 점수: 38\n",
            "(6반) 학생12, 평균 점수: 38\n",
            "(4반) 학생8, 평균 점수: 37\n",
            "(4반) 학생16, 평균 점수: 37\n",
            "(10반) 학생19, 평균 점수: 37\n",
            "(5반) 학생19, 평균 점수: 37\n",
            "(9반) 학생17, 평균 점수: 37\n",
            "(3반) 학생10, 평균 점수: 36\n",
            "(3반) 학생11, 평균 점수: 36\n",
            "(9반) 학생10, 평균 점수: 36\n",
            "(4반) 학생6, 평균 점수: 36\n",
            "(10반) 학생1, 평균 점수: 36\n",
            "(10반) 학생3, 평균 점수: 36\n",
            "(1반) 학생1, 평균 점수: 35\n",
            "(7반) 학생2, 평균 점수: 35\n",
            "(7반) 학생11, 평균 점수: 35\n",
            "(7반) 학생5, 평균 점수: 35\n",
            "(3반) 학생1, 평균 점수: 34\n",
            "(9반) 학생9, 평균 점수: 34\n",
            "(7반) 학생4, 평균 점수: 33\n",
            "(1반) 학생22, 평균 점수: 32\n",
            "(4반) 학생2, 평균 점수: 31\n",
            "(7반) 학생12, 평균 점수: 31\n",
            "(9반) 학생7, 평균 점수: 31\n",
            "(6반) 학생10, 평균 점수: 31\n",
            "(2반) 학생6, 평균 점수: 31\n",
            "(9반) 학생18, 평균 점수: 30\n",
            "(10반) 학생25, 평균 점수: 30\n",
            "(4반) 학생5, 평균 점수: 30\n",
            "(6반) 학생7, 평균 점수: 30\n",
            "(4반) 학생4, 평균 점수: 29\n",
            "(10반) 학생12, 평균 점수: 29\n",
            "(1반) 학생6, 평균 점수: 29\n",
            "(1반) 학생10, 평균 점수: 29\n",
            "(10반) 학생15, 평균 점수: 28\n",
            "(7반) 학생24, 평균 점수: 28\n",
            "(10반) 학생17, 평균 점수: 28\n",
            "(8반) 학생27, 평균 점수: 28\n",
            "(4반) 학생19, 평균 점수: 27\n",
            "(5반) 학생26, 평균 점수: 27\n",
            "(6반) 학생6, 평균 점수: 27\n",
            "(7반) 학생9, 평균 점수: 27\n",
            "(1반) 학생4, 평균 점수: 26\n",
            "(8반) 학생11, 평균 점수: 26\n",
            "(2반) 학생24, 평균 점수: 24\n",
            "(2반) 학생25, 평균 점수: 24\n",
            "(8반) 학생8, 평균 점수: 24\n",
            "(8반) 학생29, 평균 점수: 23\n",
            "(8반) 학생2, 평균 점수: 23\n",
            "(2반) 학생16, 평균 점수: 22\n",
            "(4반) 학생13, 평균 점수: 22\n",
            "(5반) 학생7, 평균 점수: 22\n",
            "(9반) 학생27, 평균 점수: 22\n",
            "(5반) 학생20, 평균 점수: 22\n",
            "(8반) 학생9, 평균 점수: 21\n",
            "(9반) 학생13, 평균 점수: 21\n",
            "(10반) 학생27, 평균 점수: 21\n",
            "(4반) 학생18, 평균 점수: 20\n",
            "(10반) 학생2, 평균 점수: 20\n",
            "(1반) 학생26, 평균 점수: 19\n",
            "(1반) 학생20, 평균 점수: 13\n",
            "(6반) 학생4, 평균 점수: 13\n",
            "(1반) 학생29, 평균 점수: 12\n",
            "(8반) 학생14, 평균 점수: 11\n",
            "(9반) 학생21, 평균 점수: 10\n",
            "(4반) 학생20, 평균 점수: 9\n",
            "(9반) 학생11, 평균 점수: 7\n"
          ]
        }
      ]
    }
  ]
}