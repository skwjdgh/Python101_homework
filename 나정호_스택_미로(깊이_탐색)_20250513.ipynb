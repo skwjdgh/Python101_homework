{
  "nbformat": 4,
  "nbformat_minor": 0,
  "metadata": {
    "colab": {
      "provenance": []
    },
    "kernelspec": {
      "name": "python3",
      "display_name": "Python 3"
    },
    "language_info": {
      "name": "python"
    }
  },
  "cells": [
    {
      "cell_type": "code",
      "execution_count": 1,
      "metadata": {
        "id": "ksw8fVT7JdbH"
      },
      "outputs": [],
      "source": [
        "# 스택 클래스\n",
        "class Stack:\n",
        "    def __init__(self):\n",
        "        self.is_stack = []\n",
        "\n",
        "    def isEmpty(self):\n",
        "        return True if len(self.is_stack) == 0 else False\n",
        "\n",
        "    def push(self, e):\n",
        "        self.is_stack.append(e)\n",
        "\n",
        "    def pop(self):\n",
        "        if not self.isEmpty():\n",
        "            return self.is_stack.pop()\n",
        "\n",
        "    def peek(self):\n",
        "        if not self.isEmpty():\n",
        "            return self.is_stack[-1]\n",
        "\n",
        "    def size(self):\n",
        "        return len(self.is_stack)\n",
        "\n",
        "    def clear(self):\n",
        "        self.is_stack = []"
      ]
    },
    {
      "cell_type": "code",
      "source": [
        "map = [['1','1','1','1','1','1'],\n",
        "        ['e','0','0','0','0','1'],\n",
        "         ['1','0','1','0','1','1'],\n",
        "          ['1','1','1','0','0','x'],\n",
        "           ['1','1','1','0','1','1'],\n",
        "            ['1','1','1','1','1','1']]\n"
      ],
      "metadata": {
        "id": "UvrN2LqLJwoP"
      },
      "execution_count": 4,
      "outputs": []
    },
    {
      "cell_type": "code",
      "source": [
        "# 미로 탐색기\n",
        "stack = Stack()\n",
        "direction = [[-1, 0], [1, 0], [0, -1], [0, 1]]\n",
        "maze_size = 6\n",
        "\n",
        "# 1. 시작 위치를 스택에 추가\n",
        "for row in range(maze_size):\n",
        "    for col in range(maze_size):\n",
        "        if map[row][col] =='e':\n",
        "            start_point = [row, col]\n",
        "\n",
        "stack.push(start_point)\n",
        "\n",
        "# 2. 스택이 공백이 아니면, 하나의 위치를 꺼냄\n",
        "# 공백일 경우, 출구 없음\n",
        "while not stack.isEmpty():\n",
        "    row, col = stack.pop()\n",
        "\n",
        "# 3. 현재 위치가 출구이면, 탐색 성공\n",
        "# 하단 반복문에서 stack에는 [nrow, ncol] 형태로 좌표가 입력되지만 루프문에서 꺼낼 때는 [row, col] 형태로 할당됨\n",
        "    if map[row][col] == 'x':\n",
        "        print(\"출구를 찾았습니다.\\n\")\n",
        "        print(f\"출구의 좌표는 [{row},{col}]입니다.\")\n",
        "        break\n",
        "\n",
        "# 현재 위치에 방문했음 표시\n",
        "    map[row][col] = '.'\n",
        "\n",
        "# 4. 출구가 아니라면, 주변을 탐색(상하좌우) , 주변이 방문 전이라면 모두 스택에 삽입\n",
        "# 상하좌우 [[-1, 0], [1, 0], [0, -1], [0, 1]]\n",
        "\n",
        "    for mrow, mcol in direction:\n",
        "        nrow = row + mrow\n",
        "        ncol = col + mcol\n",
        "        # 주변 탐색 후, 스택에 진입\n",
        "        # map[row][col] =='0'\n",
        "        # 0 <= row <6, 0 <= col <6\n",
        "        # map[row][col] =='x'\n",
        "        if 0 <= nrow < maze_size and 0 <= ncol < maze_size: #갈 수 있는 크기 제한 (깊이탐색)\n",
        "            if map[nrow][ncol] =='0' or map[nrow][ncol] =='x':\n",
        "                stack.push([nrow,ncol])\n",
        "\n",
        "else:\n",
        "    print(\"출구가 없습니다.\")"
      ],
      "metadata": {
        "colab": {
          "base_uri": "https://localhost:8080/"
        },
        "id": "cYjrJ3dxKdz7",
        "outputId": "8189be89-7b67-453d-98de-efd011f96b82"
      },
      "execution_count": 5,
      "outputs": [
        {
          "output_type": "stream",
          "name": "stdout",
          "text": [
            "출구를 찾았습니다.\n",
            "\n",
            "출구의 좌표는 [3,5]입니다.\n"
          ]
        }
      ]
    }
  ]
}