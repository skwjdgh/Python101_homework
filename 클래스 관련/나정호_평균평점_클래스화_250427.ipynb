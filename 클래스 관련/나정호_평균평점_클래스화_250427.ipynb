{
  "nbformat": 4,
  "nbformat_minor": 0,
  "metadata": {
    "colab": {
      "provenance": []
    },
    "kernelspec": {
      "name": "python3",
      "display_name": "Python 3"
    },
    "language_info": {
      "name": "python"
    }
  },
  "cells": [
    {
      "cell_type": "code",
      "execution_count": 60,
      "metadata": {
        "id": "jUNyLYeYunsC"
      },
      "outputs": [],
      "source": [
        "import random\n",
        "import os"
      ]
    },
    {
      "cell_type": "markdown",
      "source": [
        "평균평점 성적표 클래스화\n",
        "\n",
        "성적데이터 클래스\n",
        "\n",
        "1.구조\n",
        "- 초기화\n",
        "- 자료형 매서드\n",
        "- 파일 쓰기\n",
        "- 파일 읽기\n"
      ],
      "metadata": {
        "id": "3AXOVSEP5Jej"
      }
    },
    {
      "cell_type": "code",
      "source": [
        "class University():\n",
        "    def __init__(self,univ_name):\n",
        "        self.univ_name = univ_name\n",
        "        self.stud = {}\n",
        "\n",
        "    def add_stud_record(self, stud_name, grade, sem, subject, score):\n",
        "        if stud_name not in self.stud:\n",
        "            self.stud[stud_name] = {}\n",
        "        if grade not in self.stud[stud_name]:\n",
        "            self.stud[stud_name][grade] ={}\n",
        "        if sem not in self.stud[stud_name][grade]:\n",
        "            self.stud[stud_name][grade][sem] ={}\n",
        "        self.stud[stud_name][grade][sem][subject] = score\n",
        "\n",
        "    def write_file(self, filename):\n",
        "        with open(filename,\"w\",encoding =\"utf-8\") as file:\n",
        "            for studs, grades in self.stud.items():\n",
        "                file.write(f\"{studs}의 성적표\\n\")\n",
        "                for grade,sems in self.grades.items():\n",
        "                    file.write(f\" {grade}학년\\n\")\n",
        "                    for sem, subjects in self.sems.items():\n",
        "                        file.write(f\"  {sem}학기\\n\")\n",
        "                        for subject, score in self.subjects.items():\n",
        "                            file.write(f\"   {subject} : {score}\\n\")\n",
        "\n",
        "    def read_file(self,filename):\n",
        "        with open(filename,\"r\",encoding =\"utf-8\") as file:\n",
        "            lines = file.readlines()\n",
        "\n",
        "        read_stud = read_grad = read_sem = None\n",
        "\n",
        "        for line in lines:\n",
        "            line= line.strip()\n",
        "            if line.endswith(\"의 성적표\"):\n",
        "                read_stud = line.replace(\"의 성적표\",\"\").strip()\n",
        "                self.stud[read_stud] = {}\n",
        "            elif line.endswith(\"학년\"):\n",
        "                read_grad = line.replace(\"학년\",\"\").strip()\n",
        "                self.stud[read_stud][read_grad] = {}\n",
        "            elif line.endswith(\"학기\"):\n",
        "                read_sem = line.replace(\"학기\",\"\").strip()\n",
        "                self.stud[read_stud][read_grad][read_sem] ={}\n",
        "            elif \":\" in line:\n",
        "                subject,score = line.split(\" : \")\n",
        "                subject = subject.strip()\n",
        "                score = int(score.strip())\n",
        "                self.stud[read_stud][read_grad][read_sem][subject] = score\n"
      ],
      "metadata": {
        "id": "v_ZDY3BPx66V"
      },
      "execution_count": 61,
      "outputs": []
    },
    {
      "cell_type": "markdown",
      "source": [
        "기능 클래스\n",
        "\n",
        "1.구조\n",
        "- 초기화\n",
        "- GPA테이블 매서드\n",
        "- GPA 매서드"
      ],
      "metadata": {
        "id": "LZwQcbCS5R3H"
      }
    },
    {
      "cell_type": "code",
      "source": [
        "class School_func:\n",
        "    def __init__(self,university):\n",
        "        self.university = university\n",
        "\n",
        "    def mark_GPA(self, score):\n",
        "        if score >= 95:\n",
        "            return 4.5, \"A+\"\n",
        "        elif score >= 90:\n",
        "            return 4.0, \"A\"\n",
        "        elif score >= 85:\n",
        "            return 3.5, \"B+\"\n",
        "        elif score >= 80:\n",
        "            return 3.0, \"B\"\n",
        "        elif score >= 75:\n",
        "            return 2.5, \"C+\"\n",
        "        elif score >= 70:\n",
        "            return 2.0, \"C\"\n",
        "        elif score >= 65:\n",
        "            return 1.5, \"D+\"\n",
        "        elif score >= 60:\n",
        "            return 1.0, \"D\"\n",
        "        else:\n",
        "            return 0.0, \"F\"\n",
        "\n",
        "    def check_GPA(self,is_student):\n",
        "        total = 0\n",
        "        count = 0\n",
        "        if is_student in self.university.stud:\n",
        "            grades = self.university.stud[is_student]\n",
        "            for grade, sems in grades.items():\n",
        "                for sem, subjects in sems.items():\n",
        "                     for subject, score in subjects.items():\n",
        "                        gpa,grade_letter = self.mark_GPA(score)\n",
        "                        total += gpa\n",
        "                        count += 1\n",
        "                        print(f\"{is_student} - {grade}학년 {sem} {subject}: {score} = {gpa}({grade_letter})\")\n",
        "        total_gpa = total / count\n",
        "\n",
        "        is_gpa, is_grade = self.mark_GPA(total_gpa)\n",
        "        print(f\"{is_student}의 전체 평균평점: {is_gpa}({is_grade})\")"
      ],
      "metadata": {
        "id": "f_jf30Ro5N6H"
      },
      "execution_count": 62,
      "outputs": []
    },
    {
      "cell_type": "markdown",
      "source": [
        "사용 예시"
      ],
      "metadata": {
        "id": "3M_RyMWGEU2A"
      }
    },
    {
      "cell_type": "code",
      "source": [
        "# 학기 확인\n",
        "def check_semester(semester):\n",
        "    if semester == \"1\":\n",
        "        return [\"1학기\"]\n",
        "    elif semester == \"2\":\n",
        "        return [\"2학기\"]\n",
        "    else:\n",
        "        return [\"1학기\", \"2학기\"]"
      ],
      "metadata": {
        "id": "H7zI8a74Ej1a"
      },
      "execution_count": 63,
      "outputs": []
    },
    {
      "cell_type": "code",
      "source": [
        "max_grade = 4\n",
        "min_semester = \"1\"\n",
        "max_semester = \"2\"\n",
        "name = \"홍길동\"  # 학생 이름\n",
        "#name = [\"길동\", \"철수\", \"영희\", \"희철\", \"희주\"]\n",
        "max_subject = 20  # 과목 수\n",
        "max_score = 100  # 최대 점수\n",
        "university = University(\"폴리텍대학\") #university ={ name :{ grade :{ semester : { subject : score }}}}"
      ],
      "metadata": {
        "id": "ZNrUaJFqEcIk"
      },
      "execution_count": 64,
      "outputs": []
    },
    {
      "cell_type": "code",
      "source": [
        "is_grade = random.randint(1,max_grade)\n",
        "is_semester =random.choice([min_semester,max_semester]) #choice에는 시퀸스가 들어감\n",
        "is_subject = random.randint(1,max_subject+1)"
      ],
      "metadata": {
        "id": "ewha6cxwEd2P"
      },
      "execution_count": 65,
      "outputs": []
    },
    {
      "cell_type": "code",
      "source": [
        "\n",
        "print(f\"{name}의 {is_grade}학년 {is_semester}학기 까지의 성적표\\n\")\n",
        "\n",
        "grade={}\n",
        "for gra in range(1,is_grade + 1):\n",
        "    semester ={} # 학년마다 반\n",
        "    if gra == is_grade: #마지막 학년일 때 학기 확인\n",
        "        sem = check_semester(is_semester)\n",
        "    else:\n",
        "        sem = [\"1학기\",\"2학기\"]\n",
        "\n",
        "    for s in sem: # 학기 리스트에 따라\n",
        "        subject ={}\n",
        "        for sub in range(1, is_subject + 1):\n",
        "            is_score = random.randint(0,max_score)\n",
        "            subject[f\"과목{sub}:\"] = is_score # 반복문이 돌 때마다 점수가 변경될 것!\n",
        "        semester[s] = subject\n",
        "    grade[f\"{gra}학년\"] = semester\n",
        "\n",
        "for grade_key, semester_data in grade.items():\n",
        "    grade_num = int(grade_key.split(\"학\")[0])\n",
        "    for semester_key, subject_data in semester_data.items():\n",
        "        for subject, score in subject_data.items():\n",
        "            university.add_stud_record(name, grade_num, semester_key, subject, score)\n",
        "\n",
        "print(f\"{name} - {grade}학년 {semester_key} {subject}: {score}\")\n"
      ],
      "metadata": {
        "colab": {
          "base_uri": "https://localhost:8080/"
        },
        "id": "jp7U83SwESQY",
        "outputId": "481d82dc-ecb9-4275-ed76-0a1f139fa38f"
      },
      "execution_count": 66,
      "outputs": [
        {
          "output_type": "stream",
          "name": "stdout",
          "text": [
            "홍길동의 3학년 1학기 까지의 성적표\n",
            "\n",
            "홍길동 - {'1학년': {'1학기': {'과목1:': 97, '과목2:': 84}, '2학기': {'과목1:': 25, '과목2:': 77}}, '2학년': {'1학기': {'과목1:': 19, '과목2:': 39}, '2학기': {'과목1:': 82, '과목2:': 66}}, '3학년': {'1학기': {'과목1:': 43, '과목2:': 77}}}학년 1학기 과목2:: 77\n"
          ]
        }
      ]
    },
    {
      "cell_type": "code",
      "source": [
        "school_func = School_func(university)"
      ],
      "metadata": {
        "id": "aLRNzIYYFy6d"
      },
      "execution_count": 67,
      "outputs": []
    },
    {
      "cell_type": "code",
      "source": [
        "school_func.check_GPA(\"홍길동\")"
      ],
      "metadata": {
        "colab": {
          "base_uri": "https://localhost:8080/"
        },
        "id": "rrljiC5UF01L",
        "outputId": "e6ed46c0-6f25-4e05-8090-799d0899bfd6"
      },
      "execution_count": 68,
      "outputs": [
        {
          "output_type": "stream",
          "name": "stdout",
          "text": [
            "홍길동 - 1학년 1학기 과목1:: 97 = 4.5(A+)\n",
            "홍길동 - 1학년 1학기 과목2:: 84 = 3.0(B)\n",
            "홍길동 - 1학년 2학기 과목1:: 25 = 0.0(F)\n",
            "홍길동 - 1학년 2학기 과목2:: 77 = 2.5(C+)\n",
            "홍길동 - 2학년 1학기 과목1:: 19 = 0.0(F)\n",
            "홍길동 - 2학년 1학기 과목2:: 39 = 0.0(F)\n",
            "홍길동 - 2학년 2학기 과목1:: 82 = 3.0(B)\n",
            "홍길동 - 2학년 2학기 과목2:: 66 = 1.5(D+)\n",
            "홍길동 - 3학년 1학기 과목1:: 43 = 0.0(F)\n",
            "홍길동 - 3학년 1학기 과목2:: 77 = 2.5(C+)\n",
            "홍길동의 전체 평균평점: 0.0(F)\n"
          ]
        }
      ]
    }
  ]
}