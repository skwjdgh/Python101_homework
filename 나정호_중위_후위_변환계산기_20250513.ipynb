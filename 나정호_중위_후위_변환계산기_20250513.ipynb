{
  "nbformat": 4,
  "nbformat_minor": 0,
  "metadata": {
    "colab": {
      "provenance": []
    },
    "kernelspec": {
      "name": "python3",
      "display_name": "Python 3"
    },
    "language_info": {
      "name": "python"
    }
  },
  "cells": [
    {
      "cell_type": "code",
      "execution_count": 32,
      "metadata": {
        "id": "D6oqXdsWvMhs"
      },
      "outputs": [],
      "source": [
        "# 스택 클래스\n",
        "class Stack:\n",
        "    def __init__(self):\n",
        "        self.is_stack = []\n",
        "\n",
        "    def isEmpty(self):\n",
        "        return True if len(self.is_stack) == 0 else False\n",
        "\n",
        "    def push(self, e):\n",
        "        self.is_stack.append(e)\n",
        "\n",
        "    def pop(self):\n",
        "        if not self.isEmpty():\n",
        "            return self.is_stack.pop()\n",
        "\n",
        "    def peek(self):\n",
        "        if not self.isEmpty():\n",
        "            return self.is_stack[-1]\n",
        "\n",
        "    def size(self):\n",
        "        return len(self.is_stack)\n",
        "\n",
        "    def clear(self):\n",
        "        self.is_stack = []"
      ]
    },
    {
      "cell_type": "code",
      "source": [
        "# 후위 변환기\n",
        "\n",
        "class Postfix_converter:\n",
        "    def __init__(self):\n",
        "        self.p_operation = {'+': 1,'-': 1,'*': 2,'/': 2}\n",
        "        self.bracket = {'(': ')','[': ']','{': '}'}\n",
        "\n",
        "\n",
        "    def converter(self, given_exp):\n",
        "        result = []\n",
        "        stack = Stack()\n",
        "        i = 0\n",
        "        answer = \"\"\n",
        "\n",
        "        while i < len(given_exp): #여러자리 숫자 처리를 위해 사용\n",
        "            item = given_exp[i]\n",
        "\n",
        "            # 숫자 처리\n",
        "            if item.isdigit():\n",
        "                num = item\n",
        "                i += 1\n",
        "                # 여러 자리의 숫자를 처리하기 위한 조건문\n",
        "                while i < len(given_exp) and given_exp[i].isdigit(): # 만일 i+1인 표현식이 길이보다 작고, 숫자일 경우, 이 값을 num에 더해 문자열을 키움\n",
        "                    num += given_exp[i]\n",
        "                    i += 1\n",
        "                result.append(num)\n",
        "                continue\n",
        "\n",
        "\n",
        "            # 여는 괄호 처리\n",
        "            elif item in self.bracket: # 주어진 식에 괄호가 있을 경우, 스택에 집어넣음\n",
        "                stack.push(item)\n",
        "\n",
        "            # 닫는 괄호 출현시\n",
        "            elif item in self.bracket.values():\n",
        "                while not stack.isEmpty() and stack.peek() not in self.bracket:\n",
        "                #스택이 비어있지 않고 스택의 상단에 열린 괄호가 없다면 값들을 스택에서 꺼내 결과리스트에 집어넣음\n",
        "                    result.append(stack.pop())\n",
        "                if not stack.isEmpty(): # 남아있는 열린 괄호 처리\n",
        "                    stack.pop()\n",
        "\n",
        "            ## 연산자 출현시\n",
        "            elif item in self.p_operation:\n",
        "                while (not stack.isEmpty() and stack.peek() not in self.bracket and self.p_operation.get(stack.peek(), 0) >= self.p_operation[item]):\n",
        "                    # 1. 스택이 비어있지 않고\n",
        "                    # 2. 스택의 상단에 열린 괄호가 없고\n",
        "                    # 3. 우선 순위가 현재의 우선순위보다 높을 경우, 스택에서 꺼내어 결과값에 대입\n",
        "                    # self.p_operation.get(stack.peek(), 0) >= self.p_operation[item] 스택의 가장 위에 있는 연산자와 현재의 연산자의 우선순위를 비교하며 키값이 없을 때는 0과 비교함\n",
        "                    ## 조건을 찾는 연습 필요\n",
        "                    result.append(stack.pop())\n",
        "\n",
        "                stack.push(item)\n",
        "\n",
        "            # 다음 인덱스로 넘어감\n",
        "            i += 1\n",
        "\n",
        "        # 스택에 남은 아이템을 꺼냄\n",
        "        while not stack.isEmpty():\n",
        "            result.append(stack.pop())\n",
        "\n",
        "        for j in result:\n",
        "            answer += j +\" \" #2자리 이상 숫자표현을 위함\n",
        "\n",
        "        return answer\n"
      ],
      "metadata": {
        "id": "phb9BW3vxkWx"
      },
      "execution_count": 33,
      "outputs": []
    },
    {
      "cell_type": "code",
      "source": [
        "#테스트 배드1\n",
        "conv = Postfix_converter()\n",
        "\n",
        "print(conv.converter(\"1+2*3/4\"))\n",
        "print(conv.converter(\"(1+2)*(3/4)\"))\n",
        "print(conv.converter(\"{123+(2*3)}/4\"))"
      ],
      "metadata": {
        "colab": {
          "base_uri": "https://localhost:8080/"
        },
        "id": "A4esFPb78Wzq",
        "outputId": "24d10856-3dbb-4da8-c022-ebb1727d9e4b"
      },
      "execution_count": 34,
      "outputs": [
        {
          "output_type": "stream",
          "name": "stdout",
          "text": [
            "1 2 3 * 4 / + \n",
            "1 2 + 3 4 / * \n",
            "123 2 3 * + 4 / \n"
          ]
        }
      ]
    },
    {
      "cell_type": "code",
      "source": [
        "# 후위 연산 계산기\n",
        "class Postfix_calculator:\n",
        "    def __init__(self):\n",
        "        self.operator = {'+', '-', '*', '/'}\n",
        "\n",
        "    def calculator(self, postfix_exp):\n",
        "        stack = Stack()\n",
        "        items = postfix_exp.split()\n",
        "\n",
        "        for item in items:\n",
        "            if item.isdigit():\n",
        "                stack.push(int(item))\n",
        "            elif item in self.operator:\n",
        "                 o1 = stack.pop() # 오른쪽 피연산자\n",
        "                 o2 = stack.pop() # 왼쪽 피연산자\n",
        "\n",
        "                 if item == '+':\n",
        "                    stack.push(o2 + o1)\n",
        "                 elif item == '-':\n",
        "                    stack.push(o2 - o1)\n",
        "                 elif item == '*':\n",
        "                    stack.push(o2 * o1)\n",
        "                 elif item == '/':\n",
        "                    stack.push(o2 / o1)\n",
        "\n",
        "        return stack.pop()\n"
      ],
      "metadata": {
        "id": "VjavOCp3AL20"
      },
      "execution_count": 37,
      "outputs": []
    },
    {
      "cell_type": "code",
      "source": [
        "#테스트 배드2\n",
        "conv = Postfix_converter()\n",
        "calc = Postfix_calculator()\n",
        "\n",
        "exp1 = \"1+2*3/4\"\n",
        "exp2 = \"(1+2)*(3/4)\"\n",
        "exp3 = \"{123+(2*3)}/4\"\n",
        "\n",
        "p_exp1 = conv.converter(exp1)\n",
        "p_exp2 = conv.converter(exp2)\n",
        "p_exp3 = conv.converter(exp3)\n",
        "\n",
        "print(f\"{exp1}식의 후위 변환식은 '{p_exp1}', 계산값은 {calc.calculator(p_exp1)}입니다.\")\n",
        "print(f\"{exp2}식의 후위 변환식은 '{p_exp2}', 계산값은 {calc.calculator(p_exp2)}입니다.\")\n",
        "print(f\"{exp3}식의 후위 변환식은 '{p_exp3}', 계산값은 {calc.calculator(p_exp3)}입니다.\")"
      ],
      "metadata": {
        "colab": {
          "base_uri": "https://localhost:8080/"
        },
        "id": "LvkaMwmhCwe-",
        "outputId": "9fa9713d-95ae-4611-91b9-188dc5224c9c"
      },
      "execution_count": 41,
      "outputs": [
        {
          "output_type": "stream",
          "name": "stdout",
          "text": [
            "1+2*3/4식의 후위 변환식은 '1 2 3 * 4 / + ', 계산값은 2.5입니다.\n",
            "(1+2)*(3/4)식의 후위 변환식은 '1 2 + 3 4 / * ', 계산값은 2.25입니다.\n",
            "{123+(2*3)}/4식의 후위 변환식은 '123 2 3 * + 4 / ', 계산값은 32.25입니다.\n"
          ]
        }
      ]
    }
  ]
}